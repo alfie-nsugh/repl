{
 "cells": [
  {
   "cell_type": "code",
   "execution_count": 3,
   "metadata": {},
   "outputs": [],
   "source": [
    "import json\n",
    "import subprocess\n",
    "import tempfile\n",
    "import os\n",
    "\n",
    "def run_lean(command):\n",
    "    # Create a temporary Lean file with the desired content\n",
    "    with tempfile.NamedTemporaryFile(delete=False, suffix=\".lean\") as temp_file:\n",
    "        temp_file.write(command.encode())\n",
    "        temp_file_path = temp_file.name\n",
    "\n",
    "    # Prepare the JSON command to be passed to the Lean REPL\n",
    "    json_command = json.dumps({\"path\": temp_file_path, \"allTactics\": True})\n",
    "\n",
    "    # Run the command using subprocess\n",
    "    result = subprocess.run(\n",
    "        f'echo \\'{json_command}\\' | lake exe repl',\n",
    "        shell=True,\n",
    "        stdout=subprocess.PIPE,\n",
    "        stderr=subprocess.PIPE,  # Capture stderr but do not print\n",
    "        text=True,\n",
    "        timeout=30\n",
    "    )\n",
    "\n",
    "    # Capture the response and clean up the temporary file\n",
    "    response = result.stdout.strip()\n",
    "    # Capture the error\n",
    "    error = result.stderr.strip()\n",
    "\n",
    "\n",
    "    os.remove(temp_file_path)\n",
    "\n",
    "    return response, error\n"
   ]
  },
  {
   "cell_type": "code",
   "execution_count": 4,
   "metadata": {},
   "outputs": [
    {
     "name": "stdout",
     "output_type": "stream",
     "text": [
      "Response: \n",
      "Error: uncaught exception: {\"message\":\n",
      " \"Could not parse as a valid JSON command:\\nREPL.Command.cmd: String expected\"}\n"
     ]
    }
   ],
   "source": [
    "# Example usage\n",
    "lean_command = \"\"\"\n",
    "import Mathlib\n",
    "example {x y : Real} (h : x ≤ y ∧ x ≠ y) : ¬ y ≤ x := by\n",
    "intro h1\n",
    "have h2 : x = y := le_antisymm h.1 h1\n",
    "exact h.2 h2\n",
    "\"\"\"\n",
    "response,error = run_lean(lean_command)\n",
    "print(f\"Response: {response}\")\n",
    "print(f\"Error: {error}\")\n"
   ]
  },
  {
   "cell_type": "code",
   "execution_count": null,
   "metadata": {},
   "outputs": [],
   "source": []
  }
 ],
 "metadata": {
  "kernelspec": {
   "display_name": "lean_dojo",
   "language": "python",
   "name": "python3"
  },
  "language_info": {
   "codemirror_mode": {
    "name": "ipython",
    "version": 3
   },
   "file_extension": ".py",
   "mimetype": "text/x-python",
   "name": "python",
   "nbconvert_exporter": "python",
   "pygments_lexer": "ipython3",
   "version": "3.1.undefined"
  }
 },
 "nbformat": 4,
 "nbformat_minor": 2
}
